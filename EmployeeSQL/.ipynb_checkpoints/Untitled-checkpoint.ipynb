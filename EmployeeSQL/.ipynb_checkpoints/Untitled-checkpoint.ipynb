{
 "cells": [
  {
   "cell_type": "code",
   "execution_count": 2,
   "id": "a6f87eb5-7dac-4dba-aedd-6b1bb59c2036",
   "metadata": {},
   "outputs": [
    {
     "ename": "SyntaxError",
     "evalue": "invalid syntax (3830297533.py, line 2)",
     "output_type": "error",
     "traceback": [
      "\u001b[0;36m  Cell \u001b[0;32mIn[2], line 2\u001b[0;36m\u001b[0m\n\u001b[0;31m    DROP TABLE IF EXISTS departments\u001b[0m\n\u001b[0m         ^\u001b[0m\n\u001b[0;31mSyntaxError\u001b[0m\u001b[0;31m:\u001b[0m invalid syntax\n"
     ]
    }
   ],
   "source": [
    "#Drop Tables\n",
    "DROP TABLE IF EXISTS departments\n",
    "DROP TABLE IF EXISTS dept_emp\n",
    "DROP TABLE IF EXISTS dept_manager\n",
    "DROP TABLE IF EXISTS titles\n",
    "DROP TABLE IF EXISTS employees\n",
    "DROP TABLE IF EXISTS salaries\n",
    "\n",
    "#Create Tables\n",
    "CREATE TABLE departments(\n",
    "dept_no varchar PRIMARY Key,\n",
    "dept_name varchar\n",
    ");\n",
    "\n",
    "CREATE TABLE dept_emp(\n",
    "emp_no varchar NOT NULL,\n",
    "dept_no VARCHAR NOT NULL,\n",
    "PRIMARY KEY (emp_no, dept_no),\n",
    "FOREIGN KEY (emp_no) REFERENCES employees(emp_no),\n",
    "FOREIGN KEY (dept_no) REFERENCES departments(dept_no)\n",
    ");\n",
    "\n",
    "CREATE TABLE dept_manager(\n",
    "dept_no VARCHAR NOT NULL,\n",
    "emp_no Varchar NOT NULL,\n",
    "PRIMARY KEY (dept_no, emp_no),\n",
    "FOREIGN KEY (dept_no) REFERENCES departments(dept_no),\n",
    "FOREIGN KEY (emp_no) REFERENCES employees(emp_no)\n",
    ");\n",
    "\n",
    "CREATE TABLE employees(\n",
    "emp_no varchar PRIMARY KEY,\n",
    "emp_title_id  VARCHAR NOT NULL,\n",
    "birth_date VARCHAR NOT NULL,\n",
    "first_name VARCHAR NOT NULL,\n",
    "last_name VARCHAR NOT NULL,\n",
    "sex VARCHAR NOT NULL,\n",
    "hire_date VARCHAR NOT NULL,\n",
    "FOREIGN KEY (emp_title_id) REFERENCES titles(title_id)\n",
    ");\n",
    "\n",
    "CREATE TABLE salaries(\n",
    "emp_no Varchar PRIMARY KEY,\n",
    "salary INT NOT NULL,\n",
    "FOREIGN KEY(emp_no)REFERENCES employees(emp_no)\n",
    ");\n",
    "\n",
    "CREATE TABLE titles(\n",
    "title_id VARCHAR PRIMARY KEY,\n",
    "title VARCHAR NOT NULL\n",
    ");"
   ]
  },
  {
   "cell_type": "code",
   "execution_count": null,
   "id": "081a91ef-2317-4b09-af0e-025052a1a86a",
   "metadata": {},
   "outputs": [],
   "source": []
  }
 ],
 "metadata": {
  "kernelspec": {
   "display_name": "Python 3 (ipykernel)",
   "language": "python",
   "name": "python3"
  },
  "language_info": {
   "codemirror_mode": {
    "name": "ipython",
    "version": 3
   },
   "file_extension": ".py",
   "mimetype": "text/x-python",
   "name": "python",
   "nbconvert_exporter": "python",
   "pygments_lexer": "ipython3",
   "version": "3.12.4"
  }
 },
 "nbformat": 4,
 "nbformat_minor": 5
}
